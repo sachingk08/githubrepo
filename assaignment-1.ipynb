{
 "cells": [
  {
   "cell_type": "markdown",
   "metadata": {},
   "source": [
    "### 01 - Write a function that inputs a number and prints the multiplication table of that number\n"
   ]
  },
  {
   "cell_type": "code",
   "execution_count": 1,
   "metadata": {},
   "outputs": [
    {
     "name": "stdout",
     "output_type": "stream",
     "text": [
      "Enter a number to know its tables:4\n",
      "4 X 1 = 4\n",
      "4 X 2 = 8\n",
      "4 X 3 = 12\n",
      "4 X 4 = 16\n",
      "4 X 5 = 20\n",
      "4 X 6 = 24\n",
      "4 X 7 = 28\n",
      "4 X 8 = 32\n",
      "4 X 9 = 36\n",
      "4 X 10 = 40\n"
     ]
    }
   ],
   "source": [
    "def multiplication():\n",
    "    number = int(input(\"Enter a number to know its tables:\"))\n",
    "    for items in range(1,11):\n",
    "        print(number ,\"X\",items,\"=\", number*items)\n",
    "        \n",
    "multiplication()"
   ]
  },
  {
   "cell_type": "markdown",
   "metadata": {},
   "source": [
    "### 02 - Write a program to print twin primes less than 1000. If two consecutive odd numbers are both prime then they are known as twin primes"
   ]
  },
  {
   "cell_type": "code",
   "execution_count": 2,
   "metadata": {},
   "outputs": [
    {
     "name": "stdout",
     "output_type": "stream",
     "text": [
      "3 and 5\n",
      "5 and 7\n",
      "11 and 13\n",
      "17 and 19\n",
      "29 and 31\n",
      "41 and 43\n",
      "59 and 61\n",
      "71 and 73\n",
      "101 and 103\n",
      "107 and 109\n",
      "137 and 139\n",
      "149 and 151\n",
      "179 and 181\n",
      "191 and 193\n",
      "197 and 199\n",
      "227 and 229\n",
      "239 and 241\n",
      "269 and 271\n",
      "281 and 283\n",
      "311 and 313\n",
      "347 and 349\n",
      "419 and 421\n",
      "431 and 433\n",
      "461 and 463\n",
      "521 and 523\n",
      "569 and 571\n",
      "599 and 601\n",
      "617 and 619\n",
      "641 and 643\n",
      "659 and 661\n",
      "809 and 811\n",
      "821 and 823\n",
      "827 and 829\n",
      "857 and 859\n",
      "881 and 883\n"
     ]
    }
   ],
   "source": [
    "def prime_number(number):\n",
    "    for item in range(2,number):\n",
    "        if number%item==0:\n",
    "            return False\n",
    "    return True\n",
    "\n",
    "def twin_primes(start,end):\n",
    "    for item in range(start,end):\n",
    "        prime_no = item+2\n",
    "        if(prime_number(item) and prime_number(prime_no)):\n",
    "            print(f\"{item} and {prime_no}\")\n",
    "            \n",
    "            \n",
    "twin_primes(2,1000)            "
   ]
  },
  {
   "cell_type": "markdown",
   "metadata": {},
   "source": [
    "### 03 - Write a program to find out the prime factors of a number."
   ]
  },
  {
   "cell_type": "code",
   "execution_count": 3,
   "metadata": {},
   "outputs": [
    {
     "name": "stdout",
     "output_type": "stream",
     "text": [
      "Enter any Number: 56\n",
      "2,2,2,7,"
     ]
    }
   ],
   "source": [
    "#Example: prime factors of 56 -2, 2, 2, 7\n",
    "\n",
    "n = int(input(\"Enter any Number: \"))\n",
    "i = 2\n",
    "while (n != 1):\n",
    "    rem =n % i\n",
    "    if (rem == 0):\n",
    "        n = n/i\n",
    "        print(i,end=\",\")\n",
    "    else:\n",
    "        i = i+1"
   ]
  },
  {
   "cell_type": "markdown",
   "metadata": {},
   "source": [
    "### 04 - Write a program to implement these formulae of permutations and combinations. Number of permutations of n objects taken r at a time: p(n, r) = n! / (n-r)!. Number of combinations of n objects taken r at a time is: c(n, r) = n! / (r!*(n-r)!) = p(n,r) / r!\n",
    " \n",
    " \n",
    "# Method-1\n"
   ]
  },
  {
   "cell_type": "code",
   "execution_count": 4,
   "metadata": {},
   "outputs": [
    {
     "name": "stdout",
     "output_type": "stream",
     "text": [
      "Value for n:7\n",
      "Value for r:4\n",
      "Permutation of 7 & 4 is 840\n",
      "combination of 7 & 4 is 35\n"
     ]
    }
   ],
   "source": [
    "def factorial(n):\n",
    "    if n < 0:\n",
    "        return 0\n",
    "    elif n == 0 or n == 1:\n",
    "        return 1\n",
    "    else:\n",
    "        fact = 1\n",
    "        while (n > 1):\n",
    "            fact *= n\n",
    "            n -= 1\n",
    "        return fact\n",
    "\n",
    "\n",
    "def for_values():\n",
    "    n = int(input(\"Value for n:\"))\n",
    "    r = int(input(\"Value for r:\"))\n",
    "\n",
    "    if n < r:\n",
    "        print(\"INVALID Entry Value of n should be greater than r\")\n",
    "    else:\n",
    "        #permutation\n",
    "        perm = factorial(n) / factorial(n - r)\n",
    "        print(\"Permutation of\", n, \"&\", r, \"is\", int(perm))\n",
    "        #combination\n",
    "        comb = perm / factorial(r)\n",
    "        print(\"combination of\", n, \"&\", r, \"is\", int(comb))\n",
    "        \n",
    "        \n",
    "for_values()"
   ]
  },
  {
   "cell_type": "markdown",
   "metadata": {},
   "source": [
    "### 04 - Write a program to implement these formulae of permutations and combinations.Number of permutations of n objects taken r at a time: p(n, r) = n! / (n-r)!. Number of combinations of n objects taken r at a time is: c(n, r) = n! / (r!*(n-r)!) = p(n,r) / r!\n",
    "\n",
    "# Method-2"
   ]
  },
  {
   "cell_type": "markdown",
   "metadata": {},
   "source": [
    "### Using inbuilt Model"
   ]
  },
  {
   "cell_type": "code",
   "execution_count": 5,
   "metadata": {},
   "outputs": [
    {
     "name": "stdout",
     "output_type": "stream",
     "text": [
      "Value for n:7\n",
      "Value for r:4\n",
      "npr is 840\n",
      "ncr is 35\n"
     ]
    }
   ],
   "source": [
    "import math\n",
    "\n",
    "def for_values():\n",
    "    \n",
    "    \n",
    "    n = int(input(\"Value for n:\"))\n",
    "    r = int(input(\"Value for r:\"))\n",
    "  \n",
    "    if n<r:\n",
    "        print(\"INVALID Entry Value of n should be greater than r\")\n",
    "        for_values()\n",
    "    else:\n",
    "        #permutation \n",
    "        npr = math.factorial(n)/math.factorial(n-r)\n",
    "        print(\"npr is\", int(npr))\n",
    "        #combinantion\n",
    "        ncr = npr/math.factorial(r)\n",
    "        print(\"ncr is\", int(ncr))\n",
    "\n",
    "for_values()"
   ]
  },
  {
   "cell_type": "markdown",
   "metadata": {},
   "source": [
    "### 05 - Write a function that converts a decimal number to binary number."
   ]
  },
  {
   "cell_type": "code",
   "execution_count": 6,
   "metadata": {},
   "outputs": [
    {
     "name": "stdout",
     "output_type": "stream",
     "text": [
      "Enter any decimal number: 54\n",
      "110110"
     ]
    }
   ],
   "source": [
    "def decimalToBinary(num):\n",
    "    \n",
    "    if num > 1:\n",
    "        decimalToBinary(int(num / 2))\n",
    "    print(num % 2, end='')\n",
    "\n",
    "\n",
    "# decimal number\n",
    "number = int(input(\"Enter any decimal number: \"))\n",
    "\n",
    "decimalToBinary(number)"
   ]
  },
  {
   "cell_type": "markdown",
   "metadata": {},
   "source": [
    "### 06 - write a function cubesum() that accepts an integer and returns the sum of the cubes ofindividual digits of that number. Use this function to make functions PrintArmstrong() andisArmstrong() to print Armstrong numbers and to find whether is an Armstrong number."
   ]
  },
  {
   "cell_type": "code",
   "execution_count": 2,
   "metadata": {},
   "outputs": [
    {
     "name": "stdout",
     "output_type": "stream",
     "text": [
      "Enter a value to find whether it is armstrong number or not:345\n",
      "Sum of cube of individual digits is  216\n",
      "Entered value 345 is not a armstrong number\n"
     ]
    }
   ],
   "source": [
    "def printarmstrong(number):\n",
    "    print(\"Entered value\", number, \"is a armstrong number\")\n",
    "\n",
    "\n",
    "def isarmstrong(result, number):\n",
    "    if result == number:\n",
    "        printarmstrong(number)\n",
    "    else:\n",
    "        print(\"Entered value\", number, \"is not a armstrong number\")\n",
    "\n",
    "\n",
    "def cubesum():\n",
    "    number = int(input(\"Enter a value to find whether it is armstrong number or not:\"))\n",
    "    power = len(str(number))\n",
    "\n",
    "    if power != 3:\n",
    "        print(\"Enter a value which have 3 digits\")\n",
    "        cubesum()\n",
    "    else:\n",
    "        result = 0\n",
    "        i = number\n",
    "\n",
    "        while i != 0:\n",
    "            reminder = int(i % 10)\n",
    "            result =result + (reminder ** 3)\n",
    "            i = i // 10\n",
    "\n",
    "    print(\"Sum of cube of individual digits is \", result)\n",
    "    isarmstrong(result, number)\n",
    "    \n",
    "\n",
    "\n",
    "cubesum()"
   ]
  },
  {
   "cell_type": "markdown",
   "metadata": {},
   "source": [
    "### 07  Write a function prodDigits() that inputs a number and returns the product of digits of that number."
   ]
  },
  {
   "cell_type": "code",
   "execution_count": 8,
   "metadata": {},
   "outputs": [
    {
     "name": "stdout",
     "output_type": "stream",
     "text": [
      "Product of digits of number 56 is 30\n"
     ]
    }
   ],
   "source": [
    "def prodDigits(n):\n",
    "    prod = 1\n",
    "    number = n\n",
    "    while number > 0:\n",
    "        prod = prod * (number%10)\n",
    "        number = int(number/10)\n",
    "        \n",
    "    print(\"Product of digits of number\", n , \"is\", prod)\n",
    "    \n",
    "prodDigits(56)"
   ]
  },
  {
   "cell_type": "markdown",
   "metadata": {},
   "source": [
    "### 08 - Using the function prodDigits() of previous exercise write functions MDR() and MPersistence() that input a number and return its multiplicative digital root and multiplicative persistence respectively"
   ]
  },
  {
   "cell_type": "code",
   "execution_count": 9,
   "metadata": {},
   "outputs": [
    {
     "name": "stdout",
     "output_type": "stream",
     "text": [
      "Enter a value to know its multiplicative digital root  and multiplicative persistence: 654\n",
      "For 654 Multiplicative digital root is 0 and M Persistance is 2\n"
     ]
    }
   ],
   "source": [
    "def prodDigit(num):\n",
    "    temp = num\n",
    "    prod = 1\n",
    "    while temp > 0:\n",
    "        digit = temp % 10\n",
    "        prod *= digit\n",
    "        temp //= 10\n",
    "    return prod\n",
    "\n",
    "def MDR(num):\n",
    "    digit = num\n",
    "    pers = 0\n",
    "    while digit > 9:\n",
    "        digit =prodDigit(int(digit))\n",
    "        pers += 1\n",
    "    return int(digit), pers\n",
    "\n",
    "num = int(input(\"Enter a value to know its multiplicative digital root  and multiplicative persistence: \"))\n",
    "digital_root, mper = MDR(num)\n",
    "print(\"For {0} Multiplicative digital root is {1} and M Persistance is {2}\".format(num, digital_root, mper))"
   ]
  },
  {
   "cell_type": "markdown",
   "metadata": {},
   "source": [
    "### 09 - Write a function sumPdivisors() that finds the sum of proper divisors of a number. Proper divisors of a number are those numbers by which the number is divisible, except the number itself. For example proper divisors of 36 are 1, 2, 3, 4, 6, 9, 18\n"
   ]
  },
  {
   "cell_type": "code",
   "execution_count": 10,
   "metadata": {},
   "outputs": [
    {
     "name": "stdout",
     "output_type": "stream",
     "text": [
      "Enter a value:65\n",
      "Sum of proper divisors of 65 is 19\n"
     ]
    }
   ],
   "source": [
    "def sumPdivisors():\n",
    "    num = int(input(\"Enter a value:\"))\n",
    "    sum = 0\n",
    "    \n",
    "    for i in range (1,num):\n",
    "        if num % i == 0:\n",
    "            sum = sum +i\n",
    "    print(\"Sum of proper divisors of\",num , \"is\" , sum)\n",
    "        \n",
    "        \n",
    "sumPdivisors()"
   ]
  },
  {
   "cell_type": "markdown",
   "metadata": {},
   "source": [
    "### 10 - A number is called perfect if the sum of proper divisors of that number is equal to the number. For example 28 is perfect number, since 1+2+4+7+14=28. Write a program to print all the perfect numbers in a given range"
   ]
  },
  {
   "cell_type": "code",
   "execution_count": 11,
   "metadata": {},
   "outputs": [
    {
     "name": "stdout",
     "output_type": "stream",
     "text": [
      "6\n",
      "28\n"
     ]
    }
   ],
   "source": [
    "def sumPdivisors(num):\n",
    "    sum = 0\n",
    "    for i in range (1,num):\n",
    "        if num % i == 0:\n",
    "            sum = sum +i\n",
    "    return sum\n",
    "\n",
    "def perfect_number(start,end):\n",
    "    for i in range(start,end):\n",
    "        if i == sumPdivisors(i):\n",
    "            print(i)\n",
    "            \n",
    "            \n",
    "perfect_number(1,50)"
   ]
  },
  {
   "cell_type": "markdown",
   "metadata": {},
   "source": [
    "### 11 - A number is called perfect if the sum of proper divisors of that number is equal to the number. For example 28 is perfect number, since 1+2+4+7+14=28. Write a program to print all the perfect numbers in a given range"
   ]
  },
  {
   "cell_type": "code",
   "execution_count": 12,
   "metadata": {},
   "outputs": [
    {
     "name": "stdout",
     "output_type": "stream",
     "text": [
      "Amicable numbers in the range (1, 1000) are 284 220\n"
     ]
    }
   ],
   "source": [
    "def sumPdivisors(num):\n",
    "    sum = 0\n",
    "    for i in range (1,num):\n",
    "        if num % i == 0:\n",
    "            sum = sum +i\n",
    "    return sum\n",
    "        \n",
    "        \n",
    "def amicable_numbers(start,end):\n",
    "    \n",
    "    for number in range(start,end):\n",
    "        for ele in range(1,number):\n",
    "            if number != ele:\n",
    "                if sumPdivisors(number) == ele and sumPdivisors(ele) == number:\n",
    "                    print(\"Amicable numbers in the range\", (start,end),\"are\",number,ele)\n",
    "                \n",
    "\n",
    "amicable_numbers(1, 1000)"
   ]
  },
  {
   "cell_type": "markdown",
   "metadata": {},
   "source": [
    "### 12 - Write a program which can filter odd numbers in a list by using filter function"
   ]
  },
  {
   "cell_type": "code",
   "execution_count": 13,
   "metadata": {},
   "outputs": [
    {
     "name": "stdout",
     "output_type": "stream",
     "text": [
      "[1, 3, 5, 7, 9, 11, 13, 15, 17, 19, 21, 23, 25, 27, 29, 31, 33, 35, 37, 39, 41, 43, 45, 47, 49, 51, 53, 55, 57, 59, 61, 63, 65, 67, 69, 71, 73, 75, 77, 79, 81, 83, 85, 87, 89, 91, 93, 95, 97, 99]\n"
     ]
    }
   ],
   "source": [
    "def odd_list(lst):\n",
    "    \n",
    "    odd_list = list(filter(lambda num: (num%2 != 0),lst))\n",
    "    print(odd_list)\n",
    "\n",
    "    \n",
    "odd_list([*range(1,100)])"
   ]
  },
  {
   "cell_type": "markdown",
   "metadata": {},
   "source": [
    "### 13 - Write a program which can map() to make a list whose elements are cube of elements in a given list"
   ]
  },
  {
   "cell_type": "code",
   "execution_count": 14,
   "metadata": {},
   "outputs": [
    {
     "name": "stdout",
     "output_type": "stream",
     "text": [
      "[1, 8, 27, 64, 125, 216, 343, 512, 729]\n"
     ]
    }
   ],
   "source": [
    "def cube_list(lst):\n",
    "    \n",
    "    cube_list = list(map(lambda num: num**3,lst))\n",
    "    print(cube_list)\n",
    "\n",
    "cube_list([*range(1,10)])"
   ]
  },
  {
   "cell_type": "markdown",
   "metadata": {},
   "source": [
    "### 14 - Write a program which can map() and filter() to make a list whose elements are cube of even number in a given list"
   ]
  },
  {
   "cell_type": "code",
   "execution_count": 15,
   "metadata": {},
   "outputs": [
    {
     "name": "stdout",
     "output_type": "stream",
     "text": [
      "[8, 64, 216, 512, 1000]\n"
     ]
    }
   ],
   "source": [
    "def cube_list(lst):\n",
    "    cube_lst= list(map(lambda x: x**3, lst))\n",
    "    print(cube_lst)\n",
    "\n",
    "\n",
    "def even_list(lst):\n",
    "    return cube_list(list(filter(lambda num: (num%2) == 0, lst)))\n",
    "\n",
    "\n",
    "even_list([*range(1,11)])"
   ]
  }
 ],
 "metadata": {
  "kernelspec": {
   "display_name": "Python 3",
   "language": "python",
   "name": "python3"
  },
  "language_info": {
   "codemirror_mode": {
    "name": "ipython",
    "version": 3
   },
   "file_extension": ".py",
   "mimetype": "text/x-python",
   "name": "python",
   "nbconvert_exporter": "python",
   "pygments_lexer": "ipython3",
   "version": "3.9.0"
  }
 },
 "nbformat": 4,
 "nbformat_minor": 4
}
